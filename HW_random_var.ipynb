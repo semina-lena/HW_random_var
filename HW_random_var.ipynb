{
 "cells": [
  {
   "cell_type": "markdown",
   "metadata": {},
   "source": [
    "### Задание\n",
    "\n",
    "Смоделировать игру против лотерейного автомата типа “777”. Игрок платит 1 руб., после чего выпадает случайное целое число, равномерно распределенное от 0 до 999. При некоторых значениях числа игрок получает выигрыш (см. справа)\n",
    "\n",
    "Выгодна ли игра игроку?\n",
    "\n",
    "Сколько в среднем приобретает\n",
    "или теряет игрок за одну игру?\n",
    "\n",
    "777: 200 руб.  \n",
    "999: 100 руб.  \n",
    "555: 50 руб.  \n",
    "333: 15 руб.  \n",
    "111: 10 руб.  \n",
    "*77: 5 руб.  \n",
    "**7: 3 руб.  \n",
    "*00: 2 руб.  \n",
    "**0: 1 руб.  \n",
    "\n",
    "– любая цифра\n",
    "Дополнительное задание повышенной сложности. Теоретически рассчитать средний выигрыш (проигрыш) и сравнить с результатами моделирования"
   ]
  },
  {
   "cell_type": "code",
   "execution_count": 1,
   "metadata": {},
   "outputs": [],
   "source": [
    "import numpy as np"
   ]
  },
  {
   "cell_type": "code",
   "execution_count": 38,
   "metadata": {},
   "outputs": [
    {
     "name": "stdout",
     "output_type": "stream",
     "text": [
      "Сумма затрат: 100000\n",
      "Сумма выигрыша 80612\n",
      "Количество выигрышей 20302\n",
      "Игра невыгодна для игрока\n",
      "Средний итог за игру: -0.19388\n"
     ]
    }
   ],
   "source": [
    "n = 100000\n",
    "expense_sum = 0\n",
    "win_sum = 0\n",
    "win_count = 0\n",
    "\n",
    "for i in range(n):\n",
    "    random_num = np.random.randint(0, 1000)    # Случайное количество очков от 1 до 6\n",
    "    expense_sum += 1\n",
    "    if random_num == 777:\n",
    "        win_sum += 200\n",
    "        win_count +=1\n",
    "    elif random_num == 999:\n",
    "        win_sum += 100\n",
    "        win_count +=1\n",
    "    elif random_num == 555:\n",
    "        win_sum += 50\n",
    "        win_count +=1\n",
    "    elif random_num == 333:\n",
    "        win_sum += 15\n",
    "        win_count +=1\n",
    "    elif random_num == 111:\n",
    "        win_sum += 10\n",
    "        win_count +=1\n",
    "    elif random_num % 100 == 77:\n",
    "        win_sum += 5\n",
    "        win_count +=1\n",
    "    elif random_num % 10 == 7:\n",
    "        win_sum += 3\n",
    "        win_count +=1\n",
    "    elif random_num % 100 == 0:\n",
    "        win_sum += 2\n",
    "        win_count +=1\n",
    "    elif random_num % 10 == 0:\n",
    "        win_sum += 1\n",
    "        win_count +=1\n",
    "        \n",
    "b = (win_sum - expense_sum)/n\n",
    "        \n",
    "print('Сумма затрат:', expense_sum)       \n",
    "print('Сумма выигрыша', win_sum)\n",
    "print('Количество выигрышей', win_count)\n",
    "if expense_sum > win_sum:\n",
    "    print('Игра невыгодна для игрока')\n",
    "else:\n",
    "    print('Игра выгодна для игрока')\n",
    "print('Средний итог за игру:', b)\n",
    "\n",
    "\n"
   ]
  },
  {
   "cell_type": "code",
   "execution_count": 35,
   "metadata": {},
   "outputs": [
    {
     "name": "stdout",
     "output_type": "stream",
     "text": [
      "Сумма затрат: 100000\n",
      "Сумма выигрыша 39455\n",
      "Количество выигрышей 529\n",
      "Игра невыгодна для игрока\n",
      "Средний итог за игру: -0.60545\n"
     ]
    }
   ],
   "source": [
    "n = 100000\n",
    "expense_sum = 0\n",
    "win_sum = 0\n",
    "win_count = 0\n",
    "\n",
    "for i in range(n):\n",
    "    random_num = np.random.randint(0, 1000)    # Случайное количество очков от 1 до 6\n",
    "    expense_sum += 1\n",
    "    if random_num == 777:\n",
    "        win_sum += 200\n",
    "        win_count +=1\n",
    "    elif random_num == 999:\n",
    "        win_sum += 100\n",
    "        win_count +=1\n",
    "    elif random_num == 555:\n",
    "        win_sum += 50\n",
    "        win_count +=1\n",
    "    elif random_num == 333:\n",
    "        win_sum += 15\n",
    "        win_count +=1\n",
    "    elif random_num == 111:\n",
    "        win_sum += 10\n",
    "        win_count +=1\n",
    "    elif random_num % 100 == 77:\n",
    "        win_sum += 5\n",
    "        win_count +=1\n",
    "    elif random_num % 10 == 7:\n",
    "        win_sum += 3\n",
    "        win_count +=1\n",
    "    elif random_num % 100 == 0:\n",
    "        win_sum += 2\n",
    "        win_count +=1\n",
    "    elif random_num % 10 == 0:\n",
    "        win_sum += 1\n",
    "        win_count +=1\n",
    "        \n",
    "b = (win_sum - expense_sum)/n\n",
    "        \n",
    "print('Сумма затрат:', expense_sum)       \n",
    "print('Сумма выигрыша', win_sum)\n",
    "print('Количество выигрышей', win_count)\n",
    "if expense_sum > win_sum:\n",
    "    print('Игра невыгодна для игрока')\n",
    "else:\n",
    "    print('Игра выгодна для игрока')\n",
    "print('Средний итог за игру:', b)\n",
    "\n",
    "\n"
   ]
  },
  {
   "cell_type": "code",
   "execution_count": null,
   "metadata": {},
   "outputs": [],
   "source": []
  }
 ],
 "metadata": {
  "kernelspec": {
   "display_name": "Python 3",
   "language": "python",
   "name": "python3"
  },
  "language_info": {
   "codemirror_mode": {
    "name": "ipython",
    "version": 3
   },
   "file_extension": ".py",
   "mimetype": "text/x-python",
   "name": "python",
   "nbconvert_exporter": "python",
   "pygments_lexer": "ipython3",
   "version": "3.8.5"
  }
 },
 "nbformat": 4,
 "nbformat_minor": 4
}
